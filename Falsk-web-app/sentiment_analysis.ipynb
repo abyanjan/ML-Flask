{
  "nbformat": 4,
  "nbformat_minor": 0,
  "metadata": {
    "colab": {
      "name": "sentiment analysis.ipynb",
      "provenance": [],
      "collapsed_sections": []
    },
    "kernelspec": {
      "name": "python3",
      "display_name": "Python 3"
    }
  },
  "cells": [
    {
      "cell_type": "markdown",
      "metadata": {
        "id": "gHJnXHQqbIwd",
        "colab_type": "text"
      },
      "source": [
        "# **Sentiment Analysis - Amazon Reviews**"
      ]
    },
    {
      "cell_type": "code",
      "metadata": {
        "id": "1Xz4bAAdbGt7",
        "colab_type": "code",
        "colab": {}
      },
      "source": [
        "import pandas as pd\n",
        "import numpy as np\n",
        "import nltk"
      ],
      "execution_count": 0,
      "outputs": []
    },
    {
      "cell_type": "code",
      "metadata": {
        "id": "q_GIgW3Obaj0",
        "colab_type": "code",
        "outputId": "d31c654e-d101-4361-c2a7-59582858a927",
        "colab": {
          "base_uri": "https://localhost:8080/",
          "height": 52
        }
      },
      "source": [
        "# download vader lexicon\n",
        "nltk.download('vader_lexicon')"
      ],
      "execution_count": 0,
      "outputs": [
        {
          "output_type": "stream",
          "text": [
            "[nltk_data] Downloading package vader_lexicon to /root/nltk_data...\n"
          ],
          "name": "stdout"
        },
        {
          "output_type": "execute_result",
          "data": {
            "text/plain": [
              "True"
            ]
          },
          "metadata": {
            "tags": []
          },
          "execution_count": 2
        }
      ]
    },
    {
      "cell_type": "code",
      "metadata": {
        "id": "kBA2rRwib5Y_",
        "colab_type": "code",
        "colab": {}
      },
      "source": [
        "from nltk.sentiment.vader import SentimentIntensityAnalyzer"
      ],
      "execution_count": 0,
      "outputs": []
    },
    {
      "cell_type": "markdown",
      "metadata": {
        "id": "6pD3qIHlbz5P",
        "colab_type": "text"
      },
      "source": [
        "## Read Data"
      ]
    },
    {
      "cell_type": "code",
      "metadata": {
        "id": "DwxpiwN2bjVz",
        "colab_type": "code",
        "colab": {}
      },
      "source": [
        "reviews = pd.read_csv('amazonreviews.tsv', sep='\\t')"
      ],
      "execution_count": 0,
      "outputs": []
    },
    {
      "cell_type": "code",
      "metadata": {
        "id": "Y5fUrm_tcO8W",
        "colab_type": "code",
        "outputId": "7be685ea-1c38-47ed-ebd2-faa3e6ef1169",
        "colab": {
          "base_uri": "https://localhost:8080/",
          "height": 202
        }
      },
      "source": [
        "reviews.head()"
      ],
      "execution_count": 0,
      "outputs": [
        {
          "output_type": "execute_result",
          "data": {
            "text/html": [
              "<div>\n",
              "<style scoped>\n",
              "    .dataframe tbody tr th:only-of-type {\n",
              "        vertical-align: middle;\n",
              "    }\n",
              "\n",
              "    .dataframe tbody tr th {\n",
              "        vertical-align: top;\n",
              "    }\n",
              "\n",
              "    .dataframe thead th {\n",
              "        text-align: right;\n",
              "    }\n",
              "</style>\n",
              "<table border=\"1\" class=\"dataframe\">\n",
              "  <thead>\n",
              "    <tr style=\"text-align: right;\">\n",
              "      <th></th>\n",
              "      <th>label</th>\n",
              "      <th>review</th>\n",
              "    </tr>\n",
              "  </thead>\n",
              "  <tbody>\n",
              "    <tr>\n",
              "      <th>0</th>\n",
              "      <td>pos</td>\n",
              "      <td>Stuning even for the non-gamer: This sound tra...</td>\n",
              "    </tr>\n",
              "    <tr>\n",
              "      <th>1</th>\n",
              "      <td>pos</td>\n",
              "      <td>The best soundtrack ever to anything.: I'm rea...</td>\n",
              "    </tr>\n",
              "    <tr>\n",
              "      <th>2</th>\n",
              "      <td>pos</td>\n",
              "      <td>Amazing!: This soundtrack is my favorite music...</td>\n",
              "    </tr>\n",
              "    <tr>\n",
              "      <th>3</th>\n",
              "      <td>pos</td>\n",
              "      <td>Excellent Soundtrack: I truly like this soundt...</td>\n",
              "    </tr>\n",
              "    <tr>\n",
              "      <th>4</th>\n",
              "      <td>pos</td>\n",
              "      <td>Remember, Pull Your Jaw Off The Floor After He...</td>\n",
              "    </tr>\n",
              "  </tbody>\n",
              "</table>\n",
              "</div>"
            ],
            "text/plain": [
              "  label                                             review\n",
              "0   pos  Stuning even for the non-gamer: This sound tra...\n",
              "1   pos  The best soundtrack ever to anything.: I'm rea...\n",
              "2   pos  Amazing!: This soundtrack is my favorite music...\n",
              "3   pos  Excellent Soundtrack: I truly like this soundt...\n",
              "4   pos  Remember, Pull Your Jaw Off The Floor After He..."
            ]
          },
          "metadata": {
            "tags": []
          },
          "execution_count": 6
        }
      ]
    },
    {
      "cell_type": "code",
      "metadata": {
        "id": "6X1E41I4cSgg",
        "colab_type": "code",
        "outputId": "4672a769-560d-44fe-9793-abb5a4487084",
        "colab": {
          "base_uri": "https://localhost:8080/",
          "height": 69
        }
      },
      "source": [
        "reviews.label.value_counts()"
      ],
      "execution_count": 0,
      "outputs": [
        {
          "output_type": "execute_result",
          "data": {
            "text/plain": [
              "neg    5097\n",
              "pos    4903\n",
              "Name: label, dtype: int64"
            ]
          },
          "metadata": {
            "tags": []
          },
          "execution_count": 7
        }
      ]
    },
    {
      "cell_type": "code",
      "metadata": {
        "id": "N7HaWgaXcal9",
        "colab_type": "code",
        "outputId": "2c89f254-56c2-4430-d75c-b6a185e145d9",
        "colab": {
          "base_uri": "https://localhost:8080/",
          "height": 69
        }
      },
      "source": [
        "# check if any missing values\n",
        "reviews.isnull().any()"
      ],
      "execution_count": 0,
      "outputs": [
        {
          "output_type": "execute_result",
          "data": {
            "text/plain": [
              "label     False\n",
              "review    False\n",
              "dtype: bool"
            ]
          },
          "metadata": {
            "tags": []
          },
          "execution_count": 8
        }
      ]
    },
    {
      "cell_type": "markdown",
      "metadata": {
        "id": "oXpd1ml5dDEm",
        "colab_type": "text"
      },
      "source": [
        "There are no any missing values, we are good to go.."
      ]
    },
    {
      "cell_type": "markdown",
      "metadata": {
        "id": "Pdnd-baPd37n",
        "colab_type": "text"
      },
      "source": [
        "# Sentiment Analysis"
      ]
    },
    {
      "cell_type": "code",
      "metadata": {
        "id": "u2rshRG3c8OE",
        "colab_type": "code",
        "colab": {}
      },
      "source": [
        "sid = SentimentIntensityAnalyzer()"
      ],
      "execution_count": 0,
      "outputs": []
    },
    {
      "cell_type": "code",
      "metadata": {
        "id": "0ouFDdK2eGAg",
        "colab_type": "code",
        "colab": {}
      },
      "source": [
        "# calculating sentiment score for a single review\n",
        "review = reviews.review[2]"
      ],
      "execution_count": 0,
      "outputs": []
    },
    {
      "cell_type": "code",
      "metadata": {
        "id": "39s-a8O8effu",
        "colab_type": "code",
        "outputId": "dd9c2e7f-b2a4-4561-9068-e641c68969e4",
        "colab": {
          "base_uri": "https://localhost:8080/",
          "height": 55
        }
      },
      "source": [
        "print(review)"
      ],
      "execution_count": 0,
      "outputs": [
        {
          "output_type": "stream",
          "text": [
            "Amazing!: This soundtrack is my favorite music of all time, hands down. The intense sadness of \"Prisoners of Fate\" (which means all the more if you've played the game) and the hope in \"A Distant Promise\" and \"Girl who Stole the Star\" have been an important inspiration to me personally throughout my teen years. The higher energy tracks like \"Chrono Cross ~ Time's Scar~\", \"Time of the Dreamwatch\", and \"Chronomantique\" (indefinably remeniscent of Chrono Trigger) are all absolutely superb as well.This soundtrack is amazing music, probably the best of this composer's work (I haven't heard the Xenogears soundtrack, so I can't say for sure), and even if you've never played the game, it would be worth twice the price to buy it.I wish I could give it 6 stars.\n"
          ],
          "name": "stdout"
        }
      ]
    },
    {
      "cell_type": "code",
      "metadata": {
        "id": "oxLHb3yeerxh",
        "colab_type": "code",
        "outputId": "314b8c50-1e8e-4824-bbfb-ec20b3b3e3fa",
        "colab": {
          "base_uri": "https://localhost:8080/",
          "height": 35
        }
      },
      "source": [
        "sid.polarity_scores(review)"
      ],
      "execution_count": 0,
      "outputs": [
        {
          "output_type": "execute_result",
          "data": {
            "text/plain": [
              "{'compound': 0.9858, 'neg': 0.04, 'neu': 0.692, 'pos': 0.268}"
            ]
          },
          "metadata": {
            "tags": []
          },
          "execution_count": 13
        }
      ]
    },
    {
      "cell_type": "markdown",
      "metadata": {
        "id": "epQR0kEMe6EK",
        "colab_type": "text"
      },
      "source": [
        "The overall sentiment of the text is represented by compound score. \n",
        "According to the Vader library the compound score can be interpreted as\n",
        "- positive sentiment: compound score >= 0.05\n",
        "- neutral sentiment: (compound score > -0.05) and - (compound score < 0.05)\n",
        "- negative sentiment: compound score <= -0.05"
      ]
    },
    {
      "cell_type": "code",
      "metadata": {
        "id": "JMgmD6yhezmD",
        "colab_type": "code",
        "colab": {}
      },
      "source": [
        "# creating a function to calssify a text as postive or negative based on the sentiment scores\n",
        "def sentiment_label (text):\n",
        "  sid = SentimentIntensityAnalyzer()\n",
        "  senti_scores = sid.polarity_scores(text)\n",
        "  compound_score = senti_scores['compound']\n",
        "\n",
        "  if compound_score >= 0.05:\n",
        "    return 'Pos'\n",
        "  elif compound_score > -0.05 and compound_score < 0.05:\n",
        "    return 'Neutral'\n",
        "  else:\n",
        "    return 'Neg'"
      ],
      "execution_count": 0,
      "outputs": []
    },
    {
      "cell_type": "code",
      "metadata": {
        "id": "v7Agwbakg-P5",
        "colab_type": "code",
        "outputId": "925276e4-a9ea-46f7-973e-95dae4dced47",
        "colab": {
          "base_uri": "https://localhost:8080/",
          "height": 35
        }
      },
      "source": [
        "sentiment_label(review)"
      ],
      "execution_count": 0,
      "outputs": [
        {
          "output_type": "execute_result",
          "data": {
            "text/plain": [
              "'Pos'"
            ]
          },
          "metadata": {
            "tags": []
          },
          "execution_count": 18
        }
      ]
    },
    {
      "cell_type": "markdown",
      "metadata": {
        "id": "pOgF8IDlhK4U",
        "colab_type": "text"
      },
      "source": [
        "We can now apply the function to all the reviews and get the sentiment label."
      ]
    },
    {
      "cell_type": "code",
      "metadata": {
        "id": "lDDhIHhlhES0",
        "colab_type": "code",
        "colab": {}
      },
      "source": [
        "reviews['pred_label'] = reviews['review'].apply(sentiment_label)"
      ],
      "execution_count": 0,
      "outputs": []
    },
    {
      "cell_type": "code",
      "metadata": {
        "id": "igdr5QbTiIL0",
        "colab_type": "code",
        "outputId": "2c65e7b3-cfb7-4af7-eca9-baa3f855b124",
        "colab": {
          "base_uri": "https://localhost:8080/",
          "height": 202
        }
      },
      "source": [
        "reviews.head()"
      ],
      "execution_count": 0,
      "outputs": [
        {
          "output_type": "execute_result",
          "data": {
            "text/html": [
              "<div>\n",
              "<style scoped>\n",
              "    .dataframe tbody tr th:only-of-type {\n",
              "        vertical-align: middle;\n",
              "    }\n",
              "\n",
              "    .dataframe tbody tr th {\n",
              "        vertical-align: top;\n",
              "    }\n",
              "\n",
              "    .dataframe thead th {\n",
              "        text-align: right;\n",
              "    }\n",
              "</style>\n",
              "<table border=\"1\" class=\"dataframe\">\n",
              "  <thead>\n",
              "    <tr style=\"text-align: right;\">\n",
              "      <th></th>\n",
              "      <th>label</th>\n",
              "      <th>review</th>\n",
              "      <th>pred_label</th>\n",
              "    </tr>\n",
              "  </thead>\n",
              "  <tbody>\n",
              "    <tr>\n",
              "      <th>0</th>\n",
              "      <td>pos</td>\n",
              "      <td>Stuning even for the non-gamer: This sound tra...</td>\n",
              "      <td>Pos</td>\n",
              "    </tr>\n",
              "    <tr>\n",
              "      <th>1</th>\n",
              "      <td>pos</td>\n",
              "      <td>The best soundtrack ever to anything.: I'm rea...</td>\n",
              "      <td>Pos</td>\n",
              "    </tr>\n",
              "    <tr>\n",
              "      <th>2</th>\n",
              "      <td>pos</td>\n",
              "      <td>Amazing!: This soundtrack is my favorite music...</td>\n",
              "      <td>Pos</td>\n",
              "    </tr>\n",
              "    <tr>\n",
              "      <th>3</th>\n",
              "      <td>pos</td>\n",
              "      <td>Excellent Soundtrack: I truly like this soundt...</td>\n",
              "      <td>Pos</td>\n",
              "    </tr>\n",
              "    <tr>\n",
              "      <th>4</th>\n",
              "      <td>pos</td>\n",
              "      <td>Remember, Pull Your Jaw Off The Floor After He...</td>\n",
              "      <td>Pos</td>\n",
              "    </tr>\n",
              "  </tbody>\n",
              "</table>\n",
              "</div>"
            ],
            "text/plain": [
              "  label                                             review pred_label\n",
              "0   pos  Stuning even for the non-gamer: This sound tra...        Pos\n",
              "1   pos  The best soundtrack ever to anything.: I'm rea...        Pos\n",
              "2   pos  Amazing!: This soundtrack is my favorite music...        Pos\n",
              "3   pos  Excellent Soundtrack: I truly like this soundt...        Pos\n",
              "4   pos  Remember, Pull Your Jaw Off The Floor After He...        Pos"
            ]
          },
          "metadata": {
            "tags": []
          },
          "execution_count": 20
        }
      ]
    },
    {
      "cell_type": "code",
      "metadata": {
        "id": "RxmiafNwiJ2U",
        "colab_type": "code",
        "colab": {}
      },
      "source": [
        "# convert pred_label to lower cases to match with original label\n",
        "reviews['pred_label'] = reviews['pred_label'].str.lower()"
      ],
      "execution_count": 0,
      "outputs": []
    },
    {
      "cell_type": "code",
      "metadata": {
        "id": "4yTsOIEOib78",
        "colab_type": "code",
        "outputId": "0b366fe4-d466-460e-ccd4-a940f2c8179e",
        "colab": {
          "base_uri": "https://localhost:8080/",
          "height": 202
        }
      },
      "source": [
        "reviews.head()"
      ],
      "execution_count": 0,
      "outputs": [
        {
          "output_type": "execute_result",
          "data": {
            "text/html": [
              "<div>\n",
              "<style scoped>\n",
              "    .dataframe tbody tr th:only-of-type {\n",
              "        vertical-align: middle;\n",
              "    }\n",
              "\n",
              "    .dataframe tbody tr th {\n",
              "        vertical-align: top;\n",
              "    }\n",
              "\n",
              "    .dataframe thead th {\n",
              "        text-align: right;\n",
              "    }\n",
              "</style>\n",
              "<table border=\"1\" class=\"dataframe\">\n",
              "  <thead>\n",
              "    <tr style=\"text-align: right;\">\n",
              "      <th></th>\n",
              "      <th>label</th>\n",
              "      <th>review</th>\n",
              "      <th>pred_label</th>\n",
              "    </tr>\n",
              "  </thead>\n",
              "  <tbody>\n",
              "    <tr>\n",
              "      <th>0</th>\n",
              "      <td>pos</td>\n",
              "      <td>Stuning even for the non-gamer: This sound tra...</td>\n",
              "      <td>pos</td>\n",
              "    </tr>\n",
              "    <tr>\n",
              "      <th>1</th>\n",
              "      <td>pos</td>\n",
              "      <td>The best soundtrack ever to anything.: I'm rea...</td>\n",
              "      <td>pos</td>\n",
              "    </tr>\n",
              "    <tr>\n",
              "      <th>2</th>\n",
              "      <td>pos</td>\n",
              "      <td>Amazing!: This soundtrack is my favorite music...</td>\n",
              "      <td>pos</td>\n",
              "    </tr>\n",
              "    <tr>\n",
              "      <th>3</th>\n",
              "      <td>pos</td>\n",
              "      <td>Excellent Soundtrack: I truly like this soundt...</td>\n",
              "      <td>pos</td>\n",
              "    </tr>\n",
              "    <tr>\n",
              "      <th>4</th>\n",
              "      <td>pos</td>\n",
              "      <td>Remember, Pull Your Jaw Off The Floor After He...</td>\n",
              "      <td>pos</td>\n",
              "    </tr>\n",
              "  </tbody>\n",
              "</table>\n",
              "</div>"
            ],
            "text/plain": [
              "  label                                             review pred_label\n",
              "0   pos  Stuning even for the non-gamer: This sound tra...        pos\n",
              "1   pos  The best soundtrack ever to anything.: I'm rea...        pos\n",
              "2   pos  Amazing!: This soundtrack is my favorite music...        pos\n",
              "3   pos  Excellent Soundtrack: I truly like this soundt...        pos\n",
              "4   pos  Remember, Pull Your Jaw Off The Floor After He...        pos"
            ]
          },
          "metadata": {
            "tags": []
          },
          "execution_count": 26
        }
      ]
    },
    {
      "cell_type": "markdown",
      "metadata": {
        "id": "hLXMdAPqjBOB",
        "colab_type": "text"
      },
      "source": [
        "### Comparing the original label and predicted label"
      ]
    },
    {
      "cell_type": "code",
      "metadata": {
        "id": "DzQSgwByi50O",
        "colab_type": "code",
        "colab": {}
      },
      "source": [
        "from sklearn.metrics import accuracy_score, classification_report, confusion_matrix"
      ],
      "execution_count": 0,
      "outputs": []
    },
    {
      "cell_type": "code",
      "metadata": {
        "id": "ARXCrLXTjSsY",
        "colab_type": "code",
        "outputId": "2a5ab109-ce4d-4544-c239-94176a313dfd",
        "colab": {
          "base_uri": "https://localhost:8080/",
          "height": 35
        }
      },
      "source": [
        "# accuracy\n",
        "accuracy_score(reviews['label'], reviews['pred_label'])"
      ],
      "execution_count": 0,
      "outputs": [
        {
          "output_type": "execute_result",
          "data": {
            "text/plain": [
              "0.6981"
            ]
          },
          "metadata": {
            "tags": []
          },
          "execution_count": 28
        }
      ]
    },
    {
      "cell_type": "code",
      "metadata": {
        "id": "G8scpGcsjkGT",
        "colab_type": "code",
        "outputId": "03263e16-91f2-4d19-d03f-1aadebe740b9",
        "colab": {
          "base_uri": "https://localhost:8080/",
          "height": 245
        }
      },
      "source": [
        "print(classification_report(reviews['label'], reviews['pred_label']))"
      ],
      "execution_count": 0,
      "outputs": [
        {
          "output_type": "stream",
          "text": [
            "              precision    recall  f1-score   support\n",
            "\n",
            "         neg       0.86      0.51      0.64      5097\n",
            "     neutral       0.00      0.00      0.00         0\n",
            "         pos       0.65      0.90      0.76      4903\n",
            "\n",
            "    accuracy                           0.70     10000\n",
            "   macro avg       0.50      0.47      0.46     10000\n",
            "weighted avg       0.76      0.70      0.70     10000\n",
            "\n"
          ],
          "name": "stdout"
        },
        {
          "output_type": "stream",
          "text": [
            "/usr/local/lib/python3.6/dist-packages/sklearn/metrics/_classification.py:1272: UndefinedMetricWarning: Recall and F-score are ill-defined and being set to 0.0 in labels with no true samples. Use `zero_division` parameter to control this behavior.\n",
            "  _warn_prf(average, modifier, msg_start, len(result))\n"
          ],
          "name": "stderr"
        }
      ]
    },
    {
      "cell_type": "markdown",
      "metadata": {
        "id": "NFKyVIULkP7b",
        "colab_type": "text"
      },
      "source": [
        "We can see that there is problem in correctly identifyin the negative reviews compared to the positive reviews."
      ]
    },
    {
      "cell_type": "markdown",
      "metadata": {
        "id": "jvafKMubkriZ",
        "colab_type": "text"
      },
      "source": [
        "Lets have a look at some missclassified positve and negative reviews."
      ]
    },
    {
      "cell_type": "code",
      "metadata": {
        "id": "5Cc_rpi5j63u",
        "colab_type": "code",
        "colab": {}
      },
      "source": [
        "miss_label = reviews[reviews['label'] != reviews['pred_label']]\n",
        "pos_miss = miss_label[reviews['label'] == 'pos']\n",
        "neg_miss = miss_label[reviews['label'] == 'neg']"
      ],
      "execution_count": 0,
      "outputs": []
    },
    {
      "cell_type": "code",
      "metadata": {
        "id": "2R-I3-5VlTdW",
        "colab_type": "code",
        "outputId": "97d8d328-3dfe-4f81-c548-14d17f34d7c2",
        "colab": {
          "base_uri": "https://localhost:8080/",
          "height": 211
        }
      },
      "source": [
        "# missclassified positive as negative\n",
        "for review in pos_miss['review'].head():\n",
        "  print(review)\n",
        "  print()"
      ],
      "execution_count": 0,
      "outputs": [
        {
          "output_type": "stream",
          "text": [
            "Old and good: This book is worth to keep in your collection as it does not only advise what to do with sourdough but Ruth also told you what the picture of past 100 years ago in Alaska where no stand mixer nor any civilized stuffs in kitchen, just a pot of sourdough.\n",
            "\n",
            "Good but received defective book: I bought this book because we are moving to Germany and I wanted to get a good overview of all the countries in Europe that we could travel too. Unfortunately pages 457-480 on Greece are not in English - looks to be Spanish. There was some sort of printing problem! But I found the rest of the book to give good highlights of the countries.\n",
            "\n",
            "unknown Africa: You don't expect music from africa to be so profesionally produced. Me from the white world, don't understand the lyrics, but we do understand the music which is a mixture between salsa, soukous and fado with always the african feeling for rithem. The soft almost borred voice of Oliver N'goma fits pefectly in the music. The CD is recorded in France Paris, you can hear that professionals have been working on the CD. A must for a hot, lazy night.greetings Arno, Amsterdam\n",
            "\n",
            "Creepy: Wow, what people will do behind jealousy and revenge - there are some doors you should not open, and if you do - be prepared for what you find behind it!\n",
            "\n",
            "DDR is cooool!: This cd is really great.BUT ITS NOT A GAME!they're not long versons though, only 90 odd seconds each.If that Claire, also from the UK (who was disappointed with the cd) wants to get in touch, i know where you can get games with the songs you want.I'm assuming you're after all the cool songs from euromix.If so, they are on 2nd and 3rd mix games from japan.but there are also US versions available too.\n",
            "\n"
          ],
          "name": "stdout"
        }
      ]
    },
    {
      "cell_type": "code",
      "metadata": {
        "id": "1Y4on-vYlijx",
        "colab_type": "code",
        "outputId": "efdd1d9c-d4c5-469c-bf5e-9d477677ec3b",
        "colab": {
          "base_uri": "https://localhost:8080/",
          "height": 211
        }
      },
      "source": [
        "# missclassified negative as positive \n",
        "for review in neg_miss['review'].head():\n",
        "  print(review)\n",
        "  print()"
      ],
      "execution_count": 0,
      "outputs": [
        {
          "output_type": "stream",
          "text": [
            "Oh please: I guess you have to be a romance novel lover for this one, and not a very discerning one. All others beware! It is absolute drivel. I figured I was in trouble when a typo is prominently featured on the back cover, but the first page of the book removed all doubt. Wait - maybe I'm missing the point. A quick re-read of the beginning now makes it clear. This has to be an intentional churning of over-heated prose for satiric purposes. Phew, so glad I didn't waste $10.95 after all.\n",
            "\n",
            "sizes recomended in the size chart are not real: sizes are much smaller than what is recomended in the chart. I tried to put it and sheer it!. I guess you should not buy this item in the internet..it is better to go to the store and check it\n",
            "\n",
            "mens ultrasheer: This model may be ok for sedentary types, but I'm active and get around alot in my job - consistently found these stockings rolled up down by my ankles! Not Good!! Solution: go with the standard compression stocking, 20-30, stock #114622. Excellent support, stays up and gives me what I need. Both pair of these also tore as I struggled to pull them up all the time. Good riddance/bad investment!\n",
            "\n",
            "Another Abysmal Digital Copy: Rather than scratches and insect droppings, this one has random pixelations combined with muddy light and vague image resolution. Probably the cue should have been the packaging is straight out of your street corner bootleg dealer.If you've ever seen a reasonably good condition film copy, you know the defining visuals of his film are the crystal clear lighting contrasts in black and white. The surrounding countryside and 'old home' scenes are set with early morning ground mists or the haze of memory while the events on the bridge and in the water are bright, clear, and immediate.Here everything is dull, dark, and clouded. Or, if you remember the timbre and enunciation of Captain's commands, so are the visuals.After that, it is hard to believe this award winning, critically acclaimed film's best presentation is on YOUTUBE. Somewhere \"out there\" is a DVD that comes up to the standard of a 16mm public library reel.Just none of them appear to be on Amazon.\n",
            "\n",
            "Oh dear: I was excited to find a book ostensibly about Muslim feminism, but this volume did not live up to the expectations.One essay, among other things, describes the veil as potentially liberating. It doesn't begin to explain how or why.Another, on Muslim women in Cape Town, claims that Muslim women there are separate but \"more than equal.\" Gee whiz, what a disappointment.I had expected and hoped for at least one Muslim feminist condemnation of gender apartheid. But there is not a single one in the book.I'm surprised it didn't have an essay extolling the virtues of female genital mutilation.--Alyssa A. Lappen\n",
            "\n"
          ],
          "name": "stdout"
        }
      ]
    },
    {
      "cell_type": "code",
      "metadata": {
        "id": "SSQc4D3t29Zz",
        "colab_type": "code",
        "colab": {}
      },
      "source": [
        ""
      ],
      "execution_count": 0,
      "outputs": []
    }
  ]
}